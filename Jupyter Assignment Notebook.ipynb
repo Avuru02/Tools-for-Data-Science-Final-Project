{
    "cells": [
        {
            "cell_type": "markdown",
            "metadata": {
                "collapsed": true
            },
            "source": "# My Jupyter Notebook on IBM Watson Studio"
        },
        {
            "cell_type": "markdown",
            "metadata": {},
            "source": "**Aditya Vurukala**\n\nI am currently a student in college."
        },
        {
            "cell_type": "markdown",
            "metadata": {},
            "source": "### The code in cell 5 is supposed to give the product of multiplying the numbers 4 and 5 together."
        },
        {
            "cell_type": "code",
            "execution_count": 1,
            "metadata": {},
            "outputs": [
                {
                    "data": {
                        "text/plain": "20"
                    },
                    "execution_count": 1,
                    "metadata": {},
                    "output_type": "execute_result"
                }
            ],
            "source": "4 * 5"
        },
        {
            "cell_type": "markdown",
            "metadata": {},
            "source": "1. Here\n2. is my\n3. numbered list\n\nThis is my example of a block quote:\n<blockquote>This is a block quote.</blockquote>\n\n| Male/Female | Name | Final Project Grade |\n| --- | --- | --- |\n| Male | Bill | 75 |\n| Male | Aditya | 90 |\n| Female | Sarah | 98 |\n| Female | Grace | 58 |"
        }
    ],
    "metadata": {
        "kernelspec": {
            "display_name": "Python 3.7",
            "language": "python",
            "name": "python3"
        },
        "language_info": {
            "codemirror_mode": {
                "name": "ipython",
                "version": 3
            },
            "file_extension": ".py",
            "mimetype": "text/x-python",
            "name": "python",
            "nbconvert_exporter": "python",
            "pygments_lexer": "ipython3",
            "version": "3.7.10"
        }
    },
    "nbformat": 4,
    "nbformat_minor": 1
}